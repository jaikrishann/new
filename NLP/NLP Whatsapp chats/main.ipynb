{
 "cells": [
  {
   "cell_type": "code",
   "execution_count": 2,
   "id": "2c77752a",
   "metadata": {},
   "outputs": [],
   "source": [
    "import nltk\n",
    "from collections import defaultdict"
   ]
  },
  {
   "cell_type": "code",
   "execution_count": 5,
   "id": "e3ab07f1",
   "metadata": {},
   "outputs": [],
   "source": [
    "with open('whatsapp_chat_with_system_and_media.txt', 'r', encoding='utf-8') as f:\n",
    "    content = f.readlines()"
   ]
  },
  {
   "cell_type": "code",
   "execution_count": 6,
   "id": "385ab2ab",
   "metadata": {},
   "outputs": [
    {
     "name": "stdout",
     "output_type": "stream",
     "text": [
      "3/20/25, 9:07 AM - Alice changed the group description.\n",
      "\n",
      "3/20/25, 10:03 AM - Messages to this group are now secured with end-to-end encryption.\n",
      "\n",
      "3/20/25, 2:28 PM - Messages to this group are now secured with end-to-end encryption.\n",
      "\n",
      "3/20/25, 4:16 PM - Messages to this group are now secured with end-to-end encryption.\n",
      "\n",
      "3/20/25, 4:33 PM - Messages to this group are now secured with end-to-end encryption.\n",
      "\n",
      "3/20/25, 2:06 PM - Alice changed this group's icon.\n",
      "\n",
      "3/20/25, 7:56 PM - Alice changed this group's icon.\n",
      "\n",
      "3/20/25, 6:06 PM - Messages to this group are now secured with end-to-end encryption.\n",
      "\n",
      "3/20/25, 11:00 PM - You created group 'Weekend Vibes'.\n",
      "\n",
      "3/21/25, 2:08 AM - Charlie left the group.\n",
      "\n",
      "3/21/25, 3:12 AM - Alice changed the group description.\n",
      "\n",
      "3/20/25, 11:57 PM - Charlie left the group.\n",
      "\n",
      "3/20/25, 2:12 PM - Alice changed the group description.\n",
      "\n",
      "3/21/25, 11:30 AM - Alice changed this group's icon.\n",
      "\n",
      "3/21/25, 7:52 AM - You created group 'Weekend Vibes'.\n",
      "\n",
      "3/21/25, 8:27 AM - Charlie left the group.\n",
      "\n",
      "3/21/25, 5:46 AM - Bob added Charlie.\n",
      "\n",
      "3/21/25, 6:02 AM - Charlie left the group.\n",
      "\n",
      "3/22/25, 4:40 PM - Alice changed the group description.\n",
      "\n",
      "3/22/25, 10:28 AM - Alice changed the group description.\n",
      "\n",
      "3/22/25, 2:03 AM - Bob added Charlie.\n",
      "\n",
      "3/23/25, 5:35 AM - You created group 'Weekend Vibes'.\n",
      "\n",
      "3/21/25, 12:16 AM - Bob added Charlie.\n",
      "\n",
      "3/22/25, 7:21 AM - You created group 'Weekend Vibes'.\n",
      "\n",
      "3/23/25, 2:00 AM - Alice changed the group description.\n",
      "\n",
      "3/21/25, 1:17 AM - Charlie left the group.\n",
      "\n"
     ]
    }
   ],
   "source": [
    "ppl=defaultdict(list)\n",
    "\n",
    "for line in content:\n",
    "    try:\n",
    "        person = line.split(':')[2][7:]\n",
    "        text = nltk.sent_tokenize(':'.join(line.split(':')[3:]))\n",
    "        ppl[person].extend(text)   # If key exists (person), extend list with value (text),\n",
    "                                   # if not create a new key, with value added to list\n",
    "    except:\n",
    "        print(line)  # in case reading a line fails, examine why\n",
    "        pass"
   ]
  },
  {
   "cell_type": "code",
   "execution_count": 7,
   "id": "156b8f7d",
   "metadata": {},
   "outputs": [],
   "source": [
    "posts = nltk.corpus.nps_chat.xml_posts()\n",
    "\n",
    "def extract_features(post):\n",
    "    features = {}\n",
    "    for word in nltk.word_tokenize(post):\n",
    "        features['contains({})'.format(word.lower())] = True\n",
    "    return features\n",
    "\n",
    "fposts = [(extract_features(p.text), p.get('class')) for p in posts]\n",
    "test_size = int(len(fposts) * 0.1)\n",
    "train_set, test_set = fposts[test_size:], fposts[:test_size]\n",
    "classifier = nltk.NaiveBayesClassifier.train(train_set)"
   ]
  },
  {
   "cell_type": "code",
   "execution_count": 8,
   "id": "53f01847",
   "metadata": {},
   "outputs": [
    {
     "data": {
      "text/plain": [
       "'Greet'"
      ]
     },
     "execution_count": 8,
     "metadata": {},
     "output_type": "execute_result"
    }
   ],
   "source": [
    "classifier.classify(extract_features('Hi there!'))"
   ]
  },
  {
   "cell_type": "code",
   "execution_count": 9,
   "id": "d3259ef7",
   "metadata": {},
   "outputs": [
    {
     "data": {
      "text/plain": [
       "'ynQuestion'"
      ]
     },
     "execution_count": 9,
     "metadata": {},
     "output_type": "execute_result"
    }
   ],
   "source": [
    "classifier.classify(extract_features('Do you want to watch a film later?'))"
   ]
  },
  {
   "cell_type": "code",
   "execution_count": 12,
   "id": "6152d761",
   "metadata": {},
   "outputs": [
    {
     "data": {
      "text/html": [
       "<div>\n",
       "<style scoped>\n",
       "    .dataframe tbody tr th:only-of-type {\n",
       "        vertical-align: middle;\n",
       "    }\n",
       "\n",
       "    .dataframe tbody tr th {\n",
       "        vertical-align: top;\n",
       "    }\n",
       "\n",
       "    .dataframe thead th {\n",
       "        text-align: right;\n",
       "    }\n",
       "</style>\n",
       "<table border=\"1\" class=\"dataframe\">\n",
       "  <thead>\n",
       "    <tr style=\"text-align: right;\">\n",
       "      <th></th>\n",
       "      <th>Date</th>\n",
       "      <th>Time</th>\n",
       "      <th>Sender</th>\n",
       "      <th>Message</th>\n",
       "    </tr>\n",
       "  </thead>\n",
       "  <tbody>\n",
       "    <tr>\n",
       "      <th>0</th>\n",
       "      <td>3/20/25</td>\n",
       "      <td>9:00 AM</td>\n",
       "      <td>Charlie</td>\n",
       "      <td>Oh yesss That one’s wild 🙌😎</td>\n",
       "    </tr>\n",
       "    <tr>\n",
       "      <th>1</th>\n",
       "      <td>3/20/25</td>\n",
       "      <td>9:03 AM</td>\n",
       "      <td>Alice</td>\n",
       "      <td>Don't forget the charger 😂</td>\n",
       "    </tr>\n",
       "    <tr>\n",
       "      <th>2</th>\n",
       "      <td>3/20/25</td>\n",
       "      <td>9:02 AM</td>\n",
       "      <td>Bob</td>\n",
       "      <td>Did you see the news today? 👽</td>\n",
       "    </tr>\n",
       "    <tr>\n",
       "      <th>3</th>\n",
       "      <td>3/20/25</td>\n",
       "      <td>9:09 AM</td>\n",
       "      <td>Alice</td>\n",
       "      <td>What time are we meeting? 🧃🧃</td>\n",
       "    </tr>\n",
       "    <tr>\n",
       "      <th>4</th>\n",
       "      <td>3/20/25</td>\n",
       "      <td>9:12 AM</td>\n",
       "      <td>Bob</td>\n",
       "      <td>Good luck with the interview! 🙌🙌</td>\n",
       "    </tr>\n",
       "  </tbody>\n",
       "</table>\n",
       "</div>"
      ],
      "text/plain": [
       "      Date     Time   Sender                           Message\n",
       "0  3/20/25  9:00 AM  Charlie       Oh yesss That one’s wild 🙌😎\n",
       "1  3/20/25  9:03 AM    Alice        Don't forget the charger 😂\n",
       "2  3/20/25  9:02 AM      Bob     Did you see the news today? 👽\n",
       "3  3/20/25  9:09 AM    Alice      What time are we meeting? 🧃🧃\n",
       "4  3/20/25  9:12 AM      Bob  Good luck with the interview! 🙌🙌"
      ]
     },
     "execution_count": 12,
     "metadata": {},
     "output_type": "execute_result"
    }
   ],
   "source": [
    "import pandas as pd \n",
    "df = pd.read_csv(\"whatsapp_chat.csv\")\n",
    "df.head()"
   ]
  },
  {
   "cell_type": "code",
   "execution_count": 13,
   "id": "76a8cdcf",
   "metadata": {},
   "outputs": [
    {
     "ename": "TypeError",
     "evalue": "no numeric data to plot",
     "output_type": "error",
     "traceback": [
      "\u001b[1;31m---------------------------------------------------------------------------\u001b[0m",
      "\u001b[1;31mTypeError\u001b[0m                                 Traceback (most recent call last)",
      "Cell \u001b[1;32mIn[13], line 1\u001b[0m\n\u001b[1;32m----> 1\u001b[0m ax \u001b[38;5;241m=\u001b[39m \u001b[43mdf\u001b[49m\u001b[38;5;241;43m.\u001b[39;49m\u001b[43mT\u001b[49m\u001b[38;5;241;43m.\u001b[39;49m\u001b[43mplot\u001b[49m\u001b[43m(\u001b[49m\u001b[43mkind\u001b[49m\u001b[38;5;241;43m=\u001b[39;49m\u001b[38;5;124;43m'\u001b[39;49m\u001b[38;5;124;43mbar\u001b[39;49m\u001b[38;5;124;43m'\u001b[39;49m\u001b[43m,\u001b[49m\u001b[43m \u001b[49m\u001b[43mfigsize\u001b[49m\u001b[38;5;241;43m=\u001b[39;49m\u001b[43m(\u001b[49m\u001b[38;5;241;43m10\u001b[39;49m\u001b[43m,\u001b[49m\u001b[43m \u001b[49m\u001b[38;5;241;43m7\u001b[39;49m\u001b[43m)\u001b[49m\u001b[43m,\u001b[49m\u001b[43m \u001b[49m\u001b[43mlegend\u001b[49m\u001b[38;5;241;43m=\u001b[39;49m\u001b[38;5;28;43;01mTrue\u001b[39;49;00m\u001b[43m,\u001b[49m\n\u001b[0;32m      2\u001b[0m \u001b[43m               \u001b[49m\u001b[43mfontsize\u001b[49m\u001b[38;5;241;43m=\u001b[39;49m\u001b[38;5;241;43m16\u001b[39;49m\u001b[43m,\u001b[49m\u001b[43m \u001b[49m\u001b[43mcolor\u001b[49m\u001b[38;5;241;43m=\u001b[39;49m\u001b[43m[\u001b[49m\u001b[38;5;124;43m'\u001b[39;49m\u001b[38;5;124;43my\u001b[39;49m\u001b[38;5;124;43m'\u001b[39;49m\u001b[43m,\u001b[49m\u001b[38;5;124;43m'\u001b[39;49m\u001b[38;5;124;43mg\u001b[39;49m\u001b[38;5;124;43m'\u001b[39;49m\u001b[43m]\u001b[49m\u001b[43m)\u001b[49m\n\u001b[0;32m      4\u001b[0m ax\u001b[38;5;241m.\u001b[39mset_title(\u001b[38;5;124m\"\u001b[39m\u001b[38;5;124mFrequency of Message Categories\u001b[39m\u001b[38;5;124m\"\u001b[39m, fontsize\u001b[38;5;241m=\u001b[39m \u001b[38;5;241m18\u001b[39m)\n\u001b[0;32m      5\u001b[0m ax\u001b[38;5;241m.\u001b[39mset_xlabel(\u001b[38;5;124m\"\u001b[39m\u001b[38;5;124mMessage Category\u001b[39m\u001b[38;5;124m\"\u001b[39m, fontsize\u001b[38;5;241m=\u001b[39m\u001b[38;5;241m14\u001b[39m)\n",
      "File \u001b[1;32mc:\\Users\\jaikr\\AppData\\Local\\Programs\\Python\\Python311\\Lib\\site-packages\\pandas\\plotting\\_core.py:1030\u001b[0m, in \u001b[0;36mPlotAccessor.__call__\u001b[1;34m(self, *args, **kwargs)\u001b[0m\n\u001b[0;32m   1027\u001b[0m             label_name \u001b[38;5;241m=\u001b[39m label_kw \u001b[38;5;129;01mor\u001b[39;00m data\u001b[38;5;241m.\u001b[39mcolumns\n\u001b[0;32m   1028\u001b[0m             data\u001b[38;5;241m.\u001b[39mcolumns \u001b[38;5;241m=\u001b[39m label_name\n\u001b[1;32m-> 1030\u001b[0m \u001b[38;5;28;01mreturn\u001b[39;00m \u001b[43mplot_backend\u001b[49m\u001b[38;5;241;43m.\u001b[39;49m\u001b[43mplot\u001b[49m\u001b[43m(\u001b[49m\u001b[43mdata\u001b[49m\u001b[43m,\u001b[49m\u001b[43m \u001b[49m\u001b[43mkind\u001b[49m\u001b[38;5;241;43m=\u001b[39;49m\u001b[43mkind\u001b[49m\u001b[43m,\u001b[49m\u001b[43m \u001b[49m\u001b[38;5;241;43m*\u001b[39;49m\u001b[38;5;241;43m*\u001b[39;49m\u001b[43mkwargs\u001b[49m\u001b[43m)\u001b[49m\n",
      "File \u001b[1;32mc:\\Users\\jaikr\\AppData\\Local\\Programs\\Python\\Python311\\Lib\\site-packages\\pandas\\plotting\\_matplotlib\\__init__.py:71\u001b[0m, in \u001b[0;36mplot\u001b[1;34m(data, kind, **kwargs)\u001b[0m\n\u001b[0;32m     69\u001b[0m         kwargs[\u001b[38;5;124m\"\u001b[39m\u001b[38;5;124max\u001b[39m\u001b[38;5;124m\"\u001b[39m] \u001b[38;5;241m=\u001b[39m \u001b[38;5;28mgetattr\u001b[39m(ax, \u001b[38;5;124m\"\u001b[39m\u001b[38;5;124mleft_ax\u001b[39m\u001b[38;5;124m\"\u001b[39m, ax)\n\u001b[0;32m     70\u001b[0m plot_obj \u001b[38;5;241m=\u001b[39m PLOT_CLASSES[kind](data, \u001b[38;5;241m*\u001b[39m\u001b[38;5;241m*\u001b[39mkwargs)\n\u001b[1;32m---> 71\u001b[0m \u001b[43mplot_obj\u001b[49m\u001b[38;5;241;43m.\u001b[39;49m\u001b[43mgenerate\u001b[49m\u001b[43m(\u001b[49m\u001b[43m)\u001b[49m\n\u001b[0;32m     72\u001b[0m plot_obj\u001b[38;5;241m.\u001b[39mdraw()\n\u001b[0;32m     73\u001b[0m \u001b[38;5;28;01mreturn\u001b[39;00m plot_obj\u001b[38;5;241m.\u001b[39mresult\n",
      "File \u001b[1;32mc:\\Users\\jaikr\\AppData\\Local\\Programs\\Python\\Python311\\Lib\\site-packages\\pandas\\plotting\\_matplotlib\\core.py:499\u001b[0m, in \u001b[0;36mMPLPlot.generate\u001b[1;34m(self)\u001b[0m\n\u001b[0;32m    497\u001b[0m \u001b[38;5;129m@final\u001b[39m\n\u001b[0;32m    498\u001b[0m \u001b[38;5;28;01mdef\u001b[39;00m \u001b[38;5;21mgenerate\u001b[39m(\u001b[38;5;28mself\u001b[39m) \u001b[38;5;241m-\u001b[39m\u001b[38;5;241m>\u001b[39m \u001b[38;5;28;01mNone\u001b[39;00m:\n\u001b[1;32m--> 499\u001b[0m     \u001b[38;5;28;43mself\u001b[39;49m\u001b[38;5;241;43m.\u001b[39;49m\u001b[43m_compute_plot_data\u001b[49m\u001b[43m(\u001b[49m\u001b[43m)\u001b[49m\n\u001b[0;32m    500\u001b[0m     fig \u001b[38;5;241m=\u001b[39m \u001b[38;5;28mself\u001b[39m\u001b[38;5;241m.\u001b[39mfig\n\u001b[0;32m    501\u001b[0m     \u001b[38;5;28mself\u001b[39m\u001b[38;5;241m.\u001b[39m_make_plot(fig)\n",
      "File \u001b[1;32mc:\\Users\\jaikr\\AppData\\Local\\Programs\\Python\\Python311\\Lib\\site-packages\\pandas\\plotting\\_matplotlib\\core.py:698\u001b[0m, in \u001b[0;36mMPLPlot._compute_plot_data\u001b[1;34m(self)\u001b[0m\n\u001b[0;32m    696\u001b[0m \u001b[38;5;66;03m# no non-numeric frames or series allowed\u001b[39;00m\n\u001b[0;32m    697\u001b[0m \u001b[38;5;28;01mif\u001b[39;00m is_empty:\n\u001b[1;32m--> 698\u001b[0m     \u001b[38;5;28;01mraise\u001b[39;00m \u001b[38;5;167;01mTypeError\u001b[39;00m(\u001b[38;5;124m\"\u001b[39m\u001b[38;5;124mno numeric data to plot\u001b[39m\u001b[38;5;124m\"\u001b[39m)\n\u001b[0;32m    700\u001b[0m \u001b[38;5;28mself\u001b[39m\u001b[38;5;241m.\u001b[39mdata \u001b[38;5;241m=\u001b[39m numeric_data\u001b[38;5;241m.\u001b[39mapply(\u001b[38;5;28mtype\u001b[39m(\u001b[38;5;28mself\u001b[39m)\u001b[38;5;241m.\u001b[39m_convert_to_ndarray)\n",
      "\u001b[1;31mTypeError\u001b[0m: no numeric data to plot"
     ]
    }
   ],
   "source": [
    "ax = df.T.plot(kind='bar', figsize=(10, 7), legend=True,\n",
    "               fontsize=16, color=['y','g'])\n",
    "\n",
    "ax.set_title(\"Frequency of Message Categories\", fontsize= 18)\n",
    "ax.set_xlabel(\"Message Category\", fontsize=14)\n",
    "ax.set_ylabel(\"Frequency\", fontsize=14)\n",
    "\n",
    "#plt.savefig('plots/cat_message')   # uncomment to save\n",
    "plt.show()"
   ]
  },
  {
   "cell_type": "code",
   "execution_count": null,
   "id": "92eb2bad",
   "metadata": {},
   "outputs": [],
   "source": [
    "def extract_emojis(str):\n",
    "  return ''.join(c for c in str if c in emoji.UNICODE_EMOJI)\n",
    "\n",
    "for key, val in ppl.items():\n",
    "    emojis=extract_emojis(str(ppl[key]))\n",
    "    count = Counter(emojis).most_common()[:10]\n",
    "\n",
    "    print(\"{}'s emojis:\\n {} \\n\".format(key, emojis))\n",
    "    print(\"Most common: {}\\n\\n\".format(count))"
   ]
  },
  {
   "cell_type": "code",
   "execution_count": null,
   "id": "f21a2864",
   "metadata": {},
   "outputs": [],
   "source": [
    "df= pd.DataFrame(final).T  # convert dictionary to a dataframe, makes process of plotting straightforward\n",
    "df.columns = ['pol', 'name', 'date', 'token']\n",
    "df['pol'] = df['pol'].apply(lambda x : float(x)) # convert polarity to a float\n",
    "df3 = df.groupby(['date'], as_index=False).agg('mean')\n",
    "df3['name'] = 'Combined'\n",
    "final =pd.concat([df2, df3])\n",
    "final['date'] = pd.to_datetime(final.date, format='%d/%m/%Y') # need to chnage 'date' to a datetime object\n",
    "final = final.sort_values('date')\n",
    "final['x'] = final['date'].rank(method='dense', ascending=True).astype(int)\n",
    "final[:6]"
   ]
  },
  {
   "cell_type": "code",
   "execution_count": null,
   "id": "2f35b14c",
   "metadata": {},
   "outputs": [],
   "source": [
    "sns.set_style(\"whitegrid\")\n",
    "fig, ax = plt.subplots(figsize=(12,8))\n",
    "colours=['b','y','g']\n",
    "i=0\n",
    "\n",
    "for label, df in final.groupby('name'):\n",
    "    \n",
    "    new=df.reset_index()\n",
    "    new['rol'] = new['pol'].rolling(10).mean() # rolling mean calculation on a 10 day basis\n",
    "    \n",
    "    g = new.plot(x='date', y='rol', ax=ax, label=label, color=colours[i]) # rolling mean plot\n",
    "    plt.scatter(df['date'].tolist(), df['pol'], color=colours[i], alpha=0.2) # underlying scatter plot\n",
    "    \n",
    "    i+=1\n",
    "\n",
    "ax.set_ybound(lower=-0.1, upper=0.4)\n",
    "ax.set_xlabel('Date', fontsize=15)\n",
    "ax.set_ylabel('Compound Sentiment', fontsize=15)\n",
    "\n",
    "g.set_title('10 Day Rolling Mean Sentiment', fontsize=18)"
   ]
  },
  {
   "cell_type": "code",
   "execution_count": null,
   "id": "43fcf020",
   "metadata": {},
   "outputs": [],
   "source": [
    "pal = sns.cubehelix_palette(7, rot=-.25, light=.7)"
   ]
  },
  {
   "cell_type": "code",
   "execution_count": null,
   "id": "e2fbfdf9",
   "metadata": {},
   "outputs": [],
   "source": [
    "days_freq = list(df.day.value_counts().index)\n",
    "days = ['Monday', 'Tuesday', 'Wednesday', 'Thursday', 'Friday', 'Saturday', 'Sunday']"
   ]
  },
  {
   "cell_type": "code",
   "execution_count": null,
   "id": "416be322",
   "metadata": {},
   "outputs": [],
   "source": [
    "lst = list(zip(days, pal[::-1]))\n",
    "lst"
   ]
  },
  {
   "cell_type": "code",
   "execution_count": null,
   "id": "3ec3de81",
   "metadata": {},
   "outputs": [],
   "source": [
    "pal_reorder=[]\n",
    "\n",
    "for i in days:\n",
    "    #print(i)\n",
    "    j=0\n",
    "    for day in days_freq:\n",
    "        \n",
    "        if i == day:\n",
    "            #print(lst[j][1])\n",
    "            pal_reorder.append(lst[j][1])\n",
    "        j+=1\n",
    "pal_reorder   # colours ordered according to total message count for the day"
   ]
  },
  {
   "cell_type": "code",
   "execution_count": null,
   "id": "2ce72877",
   "metadata": {},
   "outputs": [],
   "source": [
    "sns.set(style=\"white\", rc={\"axes.facecolor\": (0, 0, 0, 0)})\n",
    "pal = sns.cubehelix_palette(7, rot=-.25, light=.7)\n",
    "g = sns.FacetGrid(df[(df.float_time &gt; 8)], row=\"day\", hue=\"day\",   # change \"day\" to year_month if required\n",
    "                  aspect=10, size=1.5, palette=pal_reorder, xlim=(7,24))\n",
    "\n",
    "# Draw the densities in a few steps\n",
    "g.map(sns.kdeplot, \"float_time\", clip_on=False, shade=True, alpha=1, lw=1.5, bw=.2)\n",
    "g.map(sns.kdeplot, \"float_time\", clip_on=False, color=\"w\", lw=3, bw=.2)\n",
    "g.map(plt.axhline, y=0, lw=1, clip_on=False)\n",
    "\n",
    "# Define and use a simple function to label the plot in axes coordinates\n",
    "def label(x, color, label):\n",
    "    ax = plt.gca()\n",
    "    ax.text(0, 0.1, label, fontweight=\"bold\", color=color, \n",
    "            ha=\"left\", va=\"center\", transform=ax.transAxes, size=18)\n",
    "\n",
    "g.map(label, \"float_time\")\n",
    "g.set_xlabels('Time of Day', fontsize=30)\n",
    "g.set_xticklabels(fontsize=20)\n",
    "# Set the subplots to overlap\n",
    "g.fig.subplots_adjust(hspace=-0.5)\n",
    "g.fig.suptitle('Message Density by Time and Day of the Week, Shaded by Total Message Count', fontsize=22)   \n",
    "g.set_titles(\"\")\n",
    "g.set(yticks=[])\n",
    "g.despine(bottom=True, left=True)"
   ]
  },
  {
   "cell_type": "code",
   "execution_count": null,
   "id": "2508d004",
   "metadata": {},
   "outputs": [],
   "source": []
  },
  {
   "cell_type": "code",
   "execution_count": null,
   "id": "e2fcc20e",
   "metadata": {},
   "outputs": [],
   "source": []
  },
  {
   "cell_type": "code",
   "execution_count": null,
   "id": "7dbba84c",
   "metadata": {},
   "outputs": [],
   "source": []
  },
  {
   "cell_type": "code",
   "execution_count": null,
   "id": "ac7aa89b",
   "metadata": {},
   "outputs": [],
   "source": []
  }
 ],
 "metadata": {
  "kernelspec": {
   "display_name": "Python 3",
   "language": "python",
   "name": "python3"
  },
  "language_info": {
   "codemirror_mode": {
    "name": "ipython",
    "version": 3
   },
   "file_extension": ".py",
   "mimetype": "text/x-python",
   "name": "python",
   "nbconvert_exporter": "python",
   "pygments_lexer": "ipython3",
   "version": "3.11.9"
  }
 },
 "nbformat": 4,
 "nbformat_minor": 5
}
